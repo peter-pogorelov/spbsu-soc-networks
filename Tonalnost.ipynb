{
 "cells": [
  {
   "cell_type": "code",
   "execution_count": 27,
   "metadata": {},
   "outputs": [],
   "source": [
    "import pandas as pd\n",
    "import requests\n",
    "import json\n",
    "from razdel import tokenize"
   ]
  },
  {
   "cell_type": "code",
   "execution_count": 12,
   "metadata": {},
   "outputs": [],
   "source": [
    "token='<твой токен>'"
   ]
  },
  {
   "cell_type": "code",
   "execution_count": 8,
   "metadata": {},
   "outputs": [],
   "source": [
    "tone_dict = pd.read_excel('/Users/ppogorelov/Downloads/collection (docs&words)_2016_all_labels 2/full word_rating_after_coding.xlsx', names=['word', 'tone'])"
   ]
  },
  {
   "cell_type": "code",
   "execution_count": 11,
   "metadata": {},
   "outputs": [],
   "source": [
    "tone_dict = tone_dict.set_index('word')['tone'].to_dict()"
   ]
  },
  {
   "cell_type": "code",
   "execution_count": 13,
   "metadata": {},
   "outputs": [],
   "source": [
    "def call_method(ref: str):\n",
    "    data = requests.get(ref)\n",
    "    txt = data.content.decode('utf-8')\n",
    "    try:\n",
    "        return json.loads(txt)['response']\n",
    "    except:\n",
    "        return {}"
   ]
  },
  {
   "cell_type": "code",
   "execution_count": 50,
   "metadata": {},
   "outputs": [
    {
     "data": {
      "text/plain": [
       "[{'id': 129244038, 'first_name': 'Алексей', 'last_name': 'Навальный'}]"
      ]
     },
     "execution_count": 50,
     "metadata": {},
     "output_type": "execute_result"
    }
   ],
   "source": [
    "call_method(f'https://api.vk.com/method/users.get?user_ids=navalny&v=5.21&access_token={token}')"
   ]
  },
  {
   "cell_type": "code",
   "execution_count": null,
   "metadata": {},
   "outputs": [],
   "source": []
  },
  {
   "cell_type": "code",
   "execution_count": 59,
   "metadata": {},
   "outputs": [],
   "source": [
    "texts = [i['text'] for i in call_method(f'https://api.vk.com/method/wall.get?owner_id=129244038&count=100&v=5.21&access_token={token}')['items'] if i['text'] != '']"
   ]
  },
  {
   "cell_type": "code",
   "execution_count": 60,
   "metadata": {},
   "outputs": [],
   "source": [
    "texts_tones = dict()\n",
    "for j in range(len(texts)):\n",
    "    cumsum = 0\n",
    "    words = list()\n",
    "    for i in (i.text.lower() for i in tokenize(texts[j])):\n",
    "        if i in tone_dict.keys():\n",
    "            cumsum += tone_dict[i]\n",
    "            words.append(i)\n",
    "\n",
    "    texts_tones[j] = (cumsum, words)"
   ]
  },
  {
   "cell_type": "code",
   "execution_count": 61,
   "metadata": {},
   "outputs": [
    {
     "data": {
      "text/plain": [
       "92"
      ]
     },
     "execution_count": 61,
     "metadata": {},
     "output_type": "execute_result"
    }
   ],
   "source": [
    "len(texts_tones)"
   ]
  },
  {
   "cell_type": "code",
   "execution_count": 64,
   "metadata": {},
   "outputs": [
    {
     "data": {
      "text/plain": [
       "{2: (-2, ['идиот']),\n",
       " 3: (1, ['государство', 'потратить', 'млрд']),\n",
       " 9: (1, ['благодарить', 'однако', 'день', 'много', 'забывать']),\n",
       " 13: (3, ['выполнять', 'видео', 'сотрудник', 'страна', 'правда']),\n",
       " 14: (3, ['голосование', 'новый', 'способ', 'мочить', 'голосование']),\n",
       " 18: (-1, ['девушка', 'полиция', 'вопрос', 'дело', 'момент']),\n",
       " 24: (3, ['посмотреть', 'сми', 'наверное', 'уникальный', 'полноценный']),\n",
       " 26: (-1, ['технология', 'ск', 'миллиард', 'объявлять', 'сумма']),\n",
       " 27: (2, ['операция', 'мвд', 'ск', 'страна', 'всегда']),\n",
       " 29: (2, ['добиваться', 'заявление', 'фракция', 'кпрф', 'яблоко']),\n",
       " 32: (-1, ['беззаконие', 'председатель']),\n",
       " 33: (2, ['правда', 'навальный', 'смысл', 'настоящий', 'навальный']),\n",
       " 34: (2, ['ходить', 'опыт', 'голосование', 'объединение', 'действовать']),\n",
       " 36: (-1, ['самый', 'радостный', 'момент', 'вводить', 'лидер']),\n",
       " 37: (3, ['мэрия', 'россия', 'депутат', 'украсть', 'однако']),\n",
       " 38: (1, ['кандидат', 'считать', 'голосование', 'подпись', 'вернуть']),\n",
       " 42: (1, ['пожалуйста', 'голосовать']),\n",
       " 44: (1, ['заходить', 'кандидат', 'опрос', 'кандидат', 'фото']),\n",
       " 45: (1, ['депутат', 'миллиардер', 'лидер', 'голос', 'робот']),\n",
       " 47: (1, ['власть', 'право', 'наш', 'опыт', 'участвовать']),\n",
       " 48: (1, ['россия']),\n",
       " 49: (1, ['власть', 'закон', 'мэрия', 'действовать', 'фальсифицировать']),\n",
       " 53: (3, ['ура', 'ура', 'ура', 'голосование', 'внимание']),\n",
       " 54: (-2, ['день', 'последний', 'месяц', 'безумный', 'беспредел']),\n",
       " 55: (-9, ['странный', 'мужик', 'страх', 'сюда', 'листовка']),\n",
       " 56: (-2, ['сила', 'вор', 'взяточник', 'видео', 'небольшой']),\n",
       " 57: (1, ['кандидат', 'голосовать', 'кпрф', 'депутат', 'голосование']),\n",
       " 58: (-1, ['очередной']),\n",
       " 59: (1, ['мой', 'брат', 'продавать', 'наш', 'магазин']),\n",
       " 60: (3, ['прекрасный', 'день', 'день', 'спасибо']),\n",
       " 66: (3, ['блин', 'суть', 'просьба', 'россия', 'прямой']),\n",
       " 68: (-2, ['читать', 'полностью', 'проект', 'большой', 'подробный']),\n",
       " 74: (2, ['илья', 'яшин', 'пост', 'голосовать', 'участвовать']),\n",
       " 75: (3, ['отличный', 'кандидат', 'сергей', 'голосовать', 'умный']),\n",
       " 76: (-2, ['провал', 'заговор']),\n",
       " 78: (3, ['система', 'работать', 'адрес', 'колоссальный', 'бардак']),\n",
       " 80: (1, ['любовь', 'способ', 'городской']),\n",
       " 81: (2, ['история', 'регистрироваться', 'снова', 'история', 'прямо-таки']),\n",
       " 84: (1, ['голосовать']),\n",
       " 89: (3, ['единственный', 'способ', 'москва', 'подробный', 'список']),\n",
       " 90: (-4, ['прямой', 'медведев', 'собянин', 'омоновец', 'живот'])}"
      ]
     },
     "execution_count": 64,
     "metadata": {},
     "output_type": "execute_result"
    }
   ],
   "source": [
    "{k: (v[0], v[1][:5]) for k, v in texts_tones.items() if v[0] != 0}"
   ]
  },
  {
   "cell_type": "code",
   "execution_count": null,
   "metadata": {},
   "outputs": [],
   "source": []
  }
 ],
 "metadata": {
  "kernelspec": {
   "display_name": "Python 3",
   "language": "python",
   "name": "python3"
  },
  "language_info": {
   "codemirror_mode": {
    "name": "ipython",
    "version": 3
   },
   "file_extension": ".py",
   "mimetype": "text/x-python",
   "name": "python",
   "nbconvert_exporter": "python",
   "pygments_lexer": "ipython3",
   "version": "3.7.3"
  }
 },
 "nbformat": 4,
 "nbformat_minor": 4
}
